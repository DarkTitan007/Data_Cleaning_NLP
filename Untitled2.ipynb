{
  "nbformat": 4,
  "nbformat_minor": 0,
  "metadata": {
    "colab": {
      "name": "Untitled2.ipynb",
      "provenance": [],
      "authorship_tag": "ABX9TyMHYZIxdL6+EXnZYquJ4lB4",
      "include_colab_link": true
    },
    "kernelspec": {
      "name": "python3",
      "display_name": "Python 3"
    },
    "language_info": {
      "name": "python"
    }
  },
  "cells": [
    {
      "cell_type": "markdown",
      "metadata": {
        "id": "view-in-github",
        "colab_type": "text"
      },
      "source": [
        "<a href=\"https://colab.research.google.com/github/DarkTitan007/Data_Cleaning_NLP/blob/main/Untitled2.ipynb\" target=\"_parent\"><img src=\"https://colab.research.google.com/assets/colab-badge.svg\" alt=\"Open In Colab\"/></a>"
      ]
    },
    {
      "cell_type": "code",
      "execution_count": 1,
      "metadata": {
        "id": "BkRMXTkAdQW6"
      },
      "outputs": [],
      "source": [
        "import pandas as pd\n",
        "import numpy as np\n",
        "from nltk.tokenize import word_tokenize\n",
        "from nltk import pos_tag\n",
        "from nltk.corpus import stopwords\n",
        "from nltk.stem import WordNetLemmatizer\n",
        "from sklearn.preprocessing import LabelEncoder\n",
        "from collections import defaultdict\n",
        "from nltk.corpus import wordnet as wn\n",
        "from sklearn.feature_extraction.text import TfidfVectorizer\n",
        "from sklearn import model_selection, naive_bayes, svm\n",
        "from sklearn.metrics import accuracy_score\n",
        "from sklearn.metrics import classification_report\n",
        "from sklearn.metrics import confusion_matrix\n",
        "import matplotlib.pyplot as plt\n",
        "import seaborn as sns"
      ]
    },
    {
      "cell_type": "code",
      "source": [
        "np.random.seed(500)\n",
        "Corpus = pd.read_csv(r\"/amit.csv\",encoding='latin-1')\n",
        "Corpus.head()"
      ],
      "metadata": {
        "colab": {
          "base_uri": "https://localhost:8080/",
          "height": 206
        },
        "id": "KzCPAqg2dbVM",
        "outputId": "ef9741ca-5b25-4f35-bf40-4a16cfa98d14"
      },
      "execution_count": 3,
      "outputs": [
        {
          "output_type": "execute_result",
          "data": {
            "text/html": [
              "<div>\n",
              "<style scoped>\n",
              "    .dataframe tbody tr th:only-of-type {\n",
              "        vertical-align: middle;\n",
              "    }\n",
              "\n",
              "    .dataframe tbody tr th {\n",
              "        vertical-align: top;\n",
              "    }\n",
              "\n",
              "    .dataframe thead th {\n",
              "        text-align: right;\n",
              "    }\n",
              "</style>\n",
              "<table border=\"1\" class=\"dataframe\">\n",
              "  <thead>\n",
              "    <tr style=\"text-align: right;\">\n",
              "      <th></th>\n",
              "      <th>category</th>\n",
              "      <th>text</th>\n",
              "    </tr>\n",
              "  </thead>\n",
              "  <tbody>\n",
              "    <tr>\n",
              "      <th>0</th>\n",
              "      <td>0</td>\n",
              "      <td>In what cities have zillow users reported ...</td>\n",
              "    </tr>\n",
              "    <tr>\n",
              "      <th>1</th>\n",
              "      <td>0</td>\n",
              "      <td>Name bloggers who dislike Nancy Grace?</td>\n",
              "    </tr>\n",
              "    <tr>\n",
              "      <th>2</th>\n",
              "      <td>0</td>\n",
              "      <td>Name government officials who oppose makin...</td>\n",
              "    </tr>\n",
              "    <tr>\n",
              "      <th>3</th>\n",
              "      <td>0</td>\n",
              "      <td>What Americans have expressed negative opi...</td>\n",
              "    </tr>\n",
              "    <tr>\n",
              "      <th>4</th>\n",
              "      <td>0</td>\n",
              "      <td>What are reasons for opposing universal he...</td>\n",
              "    </tr>\n",
              "  </tbody>\n",
              "</table>\n",
              "</div>"
            ],
            "text/plain": [
              "   category                                               text\n",
              "0         0      In what cities have zillow users reported ...\n",
              "1         0             Name bloggers who dislike Nancy Grace?\n",
              "2         0      Name government officials who oppose makin...\n",
              "3         0      What Americans have expressed negative opi...\n",
              "4         0      What are reasons for opposing universal he..."
            ]
          },
          "metadata": {},
          "execution_count": 3
        }
      ]
    },
    {
      "cell_type": "code",
      "source": [
        "Corpus.info()"
      ],
      "metadata": {
        "colab": {
          "base_uri": "https://localhost:8080/"
        },
        "id": "f9pO73Gadmcj",
        "outputId": "19d78765-11fb-4bfd-8e77-3e0c574443b1"
      },
      "execution_count": 4,
      "outputs": [
        {
          "output_type": "stream",
          "name": "stdout",
          "text": [
            "<class 'pandas.core.frame.DataFrame'>\n",
            "RangeIndex: 303 entries, 0 to 302\n",
            "Data columns (total 2 columns):\n",
            " #   Column    Non-Null Count  Dtype \n",
            "---  ------    --------------  ----- \n",
            " 0   category  303 non-null    int64 \n",
            " 1   text      303 non-null    object\n",
            "dtypes: int64(1), object(1)\n",
            "memory usage: 4.9+ KB\n"
          ]
        }
      ]
    },
    {
      "cell_type": "code",
      "source": [
        "sns.countplot(Corpus.category)\n",
        "plt.xlabel('Category')\n",
        "plt.title('CountPlot')"
      ],
      "metadata": {
        "colab": {
          "base_uri": "https://localhost:8080/",
          "height": 367
        },
        "id": "OHcktndmdpaq",
        "outputId": "7fa67ddb-d6e0-436f-a2f3-a3eda3dfeff6"
      },
      "execution_count": 5,
      "outputs": [
        {
          "output_type": "stream",
          "name": "stderr",
          "text": [
            "/usr/local/lib/python3.7/dist-packages/seaborn/_decorators.py:43: FutureWarning: Pass the following variable as a keyword arg: x. From version 0.12, the only valid positional argument will be `data`, and passing other arguments without an explicit keyword will result in an error or misinterpretation.\n",
            "  FutureWarning\n"
          ]
        },
        {
          "output_type": "execute_result",
          "data": {
            "text/plain": [
              "Text(0.5, 1.0, 'CountPlot')"
            ]
          },
          "metadata": {},
          "execution_count": 5
        },
        {
          "output_type": "display_data",
          "data": {
            "image/png": "[encoded data removed]",
            "text/plain": [
              "<Figure size 432x288 with 1 Axes>"
            ]
          },
          "metadata": {
            "needs_background": "light"
          }
        }
      ]
    },
    {
      "cell_type": "code",
      "source": [
        "import nltk\n",
        "nltk.download('punkt')\n",
        "nltk.download('wordnet')\n",
        "nltk.download('averaged_perceptron_tagger')\n",
        "nltk.download('stopwords')"
      ],
      "metadata": {
        "colab": {
          "base_uri": "https://localhost:8080/"
        },
        "id": "tWqxYdf1dssS",
        "outputId": "3ada5294-7e48-40ee-9c8c-0959527ac355"
      },
      "execution_count": 9,
      "outputs": [
        {
          "output_type": "stream",
          "name": "stdout",
          "text": [
            "[nltk_data] Downloading package punkt to /root/nltk_data...\n",
            "[nltk_data]   Package punkt is already up-to-date!\n",
            "[nltk_data] Downloading package wordnet to /root/nltk_data...\n",
            "[nltk_data]   Package wordnet is already up-to-date!\n",
            "[nltk_data] Downloading package averaged_perceptron_tagger to\n",
            "[nltk_data]     /root/nltk_data...\n",
            "[nltk_data]   Unzipping taggers/averaged_perceptron_tagger.zip.\n",
            "[nltk_data] Downloading package stopwords to /root/nltk_data...\n",
            "[nltk_data]   Unzipping corpora/stopwords.zip.\n"
          ]
        },
        {
          "output_type": "execute_result",
          "data": {
            "text/plain": [
              "True"
            ]
          },
          "metadata": {},
          "execution_count": 9
        }
      ]
    },
    {
      "cell_type": "code",
      "source": [
        "# 1. Removing Blank Spaces\n",
        "Corpus['text'].dropna(inplace=True)\n",
        "# 2. Changing all text to lowercase\n",
        "Corpus['text_original'] = Corpus['text']\n",
        "Corpus['text'] = str(Corpus['text'])\n",
        "Corpus['text'] = [entry.lower() for entry in Corpus['text']]\n",
        "# 3. Tokenization-In this each entry in the corpus will be broken into set of words\n",
        "Corpus['text']= [word_tokenize(entry) for entry in Corpus['text']]\n",
        "# 4. Remove Stop words, Non-Numeric and perfoming Word Stemming/Lemmenting.\n",
        "# WordNetLemmatizer requires Pos tags to understand if the word is noun or verb or adjective etc. By default it is set to Noun\n",
        "tag_map = defaultdict(lambda : wn.NOUN)\n",
        "tag_map['J'] = wn.ADJ\n",
        "tag_map['V'] = wn.VERB\n",
        "tag_map['R'] = wn.ADV\n",
        "\n",
        "Corpus.head()"
      ],
      "metadata": {
        "colab": {
          "base_uri": "https://localhost:8080/",
          "height": 206
        },
        "id": "my6g5rYzeJpB",
        "outputId": "85291811-1f9f-4249-bd40-aed69e362731"
      },
      "execution_count": 11,
      "outputs": [
        {
          "output_type": "execute_result",
          "data": {
            "text/html": [
              "<div>\n",
              "<style scoped>\n",
              "    .dataframe tbody tr th:only-of-type {\n",
              "        vertical-align: middle;\n",
              "    }\n",
              "\n",
              "    .dataframe tbody tr th {\n",
              "        vertical-align: top;\n",
              "    }\n",
              "\n",
              "    .dataframe thead th {\n",
              "        text-align: right;\n",
              "    }\n",
              "</style>\n",
              "<table border=\"1\" class=\"dataframe\">\n",
              "  <thead>\n",
              "    <tr style=\"text-align: right;\">\n",
              "      <th></th>\n",
              "      <th>category</th>\n",
              "      <th>text</th>\n",
              "      <th>text_original</th>\n",
              "    </tr>\n",
              "  </thead>\n",
              "  <tbody>\n",
              "    <tr>\n",
              "      <th>0</th>\n",
              "      <td>0</td>\n",
              "      <td>[0, [, 0, ,, [, ,, 0, ,, ,, ,, in, ,, ,, ,, wh...</td>\n",
              "      <td>[0, [, 0, ,, in, ,, what, ,, cities, ,, have, ...</td>\n",
              "    </tr>\n",
              "    <tr>\n",
              "      <th>1</th>\n",
              "      <td>0</td>\n",
              "      <td>[0, [, 0, ,, [, ,, 0, ,, ,, ,, in, ,, ,, ,, wh...</td>\n",
              "      <td>[0, [, 0, ,, in, ,, what, ,, cities, ,, have, ...</td>\n",
              "    </tr>\n",
              "    <tr>\n",
              "      <th>2</th>\n",
              "      <td>0</td>\n",
              "      <td>[0, [, 0, ,, [, ,, 0, ,, ,, ,, in, ,, ,, ,, wh...</td>\n",
              "      <td>[0, [, 0, ,, in, ,, what, ,, cities, ,, have, ...</td>\n",
              "    </tr>\n",
              "    <tr>\n",
              "      <th>3</th>\n",
              "      <td>0</td>\n",
              "      <td>[0, [, 0, ,, [, ,, 0, ,, ,, ,, in, ,, ,, ,, wh...</td>\n",
              "      <td>[0, [, 0, ,, in, ,, what, ,, cities, ,, have, ...</td>\n",
              "    </tr>\n",
              "    <tr>\n",
              "      <th>4</th>\n",
              "      <td>0</td>\n",
              "      <td>[0, [, 0, ,, [, ,, 0, ,, ,, ,, in, ,, ,, ,, wh...</td>\n",
              "      <td>[0, [, 0, ,, in, ,, what, ,, cities, ,, have, ...</td>\n",
              "    </tr>\n",
              "  </tbody>\n",
              "</table>\n",
              "</div>"
            ],
            "text/plain": [
              "   category  ...                                      text_original\n",
              "0         0  ...  [0, [, 0, ,, in, ,, what, ,, cities, ,, have, ...\n",
              "1         0  ...  [0, [, 0, ,, in, ,, what, ,, cities, ,, have, ...\n",
              "2         0  ...  [0, [, 0, ,, in, ,, what, ,, cities, ,, have, ...\n",
              "3         0  ...  [0, [, 0, ,, in, ,, what, ,, cities, ,, have, ...\n",
              "4         0  ...  [0, [, 0, ,, in, ,, what, ,, cities, ,, have, ...\n",
              "\n",
              "[5 rows x 3 columns]"
            ]
          },
          "metadata": {},
          "execution_count": 11
        }
      ]
    },
    {
      "cell_type": "code",
      "source": [
        "for index,entry in enumerate(Corpus['text']):\n",
        "    # Declaring Empty List to store the words that follow the rules for this step\n",
        "    Final_words = []\n",
        "    # Initializing WordNetLemmatizer()\n",
        "    word_Lemmatized = WordNetLemmatizer()\n",
        "    # pos_tag function below will provide the 'tag' i.e if the word is Noun(N) or Verb(V) or something else.\n",
        "    for word, tag in pos_tag(entry):\n",
        "        # Below condition is to check for Stop words and consider only alphabets\n",
        "        if word not in stopwords.words('english') and word.isalpha():\n",
        "            word_Final = word_Lemmatized.lemmatize(word,tag_map[tag[0]])\n",
        "            Final_words.append(word_Final)\n",
        "    # The final processed set of words for each iteration will be stored in 'text_final'\n",
        "    Corpus.loc[index,'text_final'] = str(Final_words)"
      ],
      "metadata": {
        "id": "uBnbciQleW-K"
      },
      "execution_count": 12,
      "outputs": []
    },
    {
      "cell_type": "code",
      "source": [
        "Corpus.drop(['text'], axis=1)\n",
        "output_path = 'preprocessed_data.csv'\n",
        "Corpus.to_csv(output_path, index=False)"
      ],
      "metadata": {
        "id": "QVRK9JIWefxK"
      },
      "execution_count": 13,
      "outputs": []
    },
    {
      "cell_type": "code",
      "source": [
        "Train_X, Test_X, Train_Y, Test_Y = model_selection.train_test_split(Corpus['text_final'],Corpus['category'],test_size=0.3)"
      ],
      "metadata": {
        "id": "aNIKf9ODeiDR"
      },
      "execution_count": 14,
      "outputs": []
    },
    {
      "cell_type": "code",
      "source": [
        "Encoder = LabelEncoder()\n",
        "Train_Y = Encoder.fit_transform(Train_Y)\n",
        "Test_Y = Encoder.fit_transform(Test_Y)"
      ],
      "metadata": {
        "id": "O2n2f4OhekLB"
      },
      "execution_count": 15,
      "outputs": []
    },
    {
      "cell_type": "code",
      "source": [
        "Tfidf_vect = TfidfVectorizer(max_features=5000)\n",
        "Tfidf_vect.fit(Corpus['text_final'])\n",
        "Train_X_Tfidf = Tfidf_vect.transform(Train_X)\n",
        "Test_X_Tfidf = Tfidf_vect.transform(Test_X)\n",
        "\n",
        "print(Tfidf_vect.vocabulary_)"
      ],
      "metadata": {
        "colab": {
          "base_uri": "https://localhost:8080/"
        },
        "id": "DYvn0ezJemKp",
        "outputId": "7c231249-9a8f-41d2-a5ab-7a2d0abdfbcf"
      },
      "execution_count": 16,
      "outputs": [
        {
          "output_type": "stream",
          "name": "stdout",
          "text": [
            "{'city': 0, 'name': 3, 'text': 5, 'length': 2, 'dtype': 1, 'object': 4}\n"
          ]
        }
      ]
    },
    {
      "cell_type": "code",
      "source": [
        "print(Train_X_Tfidf)"
      ],
      "metadata": {
        "colab": {
          "base_uri": "https://localhost:8080/"
        },
        "id": "TdXvgK-Peo05",
        "outputId": "6cdc4704-6eb5-46c9-def2-5f08b7c97d31"
      },
      "execution_count": 17,
      "outputs": [
        {
          "output_type": "stream",
          "name": "stdout",
          "text": [
            "  (0, 5)\t0.09759000729485333\n",
            "  (0, 4)\t0.09759000729485333\n",
            "  (0, 3)\t0.09759000729485333\n",
            "  (0, 2)\t0.09759000729485333\n",
            "  (0, 1)\t0.09759000729485333\n",
            "  (0, 0)\t0.9759000729485332\n",
            "  (1, 5)\t0.09759000729485333\n",
            "  (1, 4)\t0.09759000729485333\n",
            "  (1, 3)\t0.09759000729485333\n",
            "  (1, 2)\t0.09759000729485333\n",
            "  (1, 1)\t0.09759000729485333\n",
            "  (1, 0)\t0.9759000729485332\n",
            "  (2, 5)\t0.09759000729485333\n",
            "  (2, 4)\t0.09759000729485333\n",
            "  (2, 3)\t0.09759000729485333\n",
            "  (2, 2)\t0.09759000729485333\n",
            "  (2, 1)\t0.09759000729485333\n",
            "  (2, 0)\t0.9759000729485332\n",
            "  (3, 5)\t0.09759000729485333\n",
            "  (3, 4)\t0.09759000729485333\n",
            "  (3, 3)\t0.09759000729485333\n",
            "  (3, 2)\t0.09759000729485333\n",
            "  (3, 1)\t0.09759000729485333\n",
            "  (3, 0)\t0.9759000729485332\n",
            "  (4, 5)\t0.09759000729485333\n",
            "  :\t:\n",
            "  (207, 0)\t0.9759000729485332\n",
            "  (208, 5)\t0.09759000729485333\n",
            "  (208, 4)\t0.09759000729485333\n",
            "  (208, 3)\t0.09759000729485333\n",
            "  (208, 2)\t0.09759000729485333\n",
            "  (208, 1)\t0.09759000729485333\n",
            "  (208, 0)\t0.9759000729485332\n",
            "  (209, 5)\t0.09759000729485333\n",
            "  (209, 4)\t0.09759000729485333\n",
            "  (209, 3)\t0.09759000729485333\n",
            "  (209, 2)\t0.09759000729485333\n",
            "  (209, 1)\t0.09759000729485333\n",
            "  (209, 0)\t0.9759000729485332\n",
            "  (210, 5)\t0.09759000729485333\n",
            "  (210, 4)\t0.09759000729485333\n",
            "  (210, 3)\t0.09759000729485333\n",
            "  (210, 2)\t0.09759000729485333\n",
            "  (210, 1)\t0.09759000729485333\n",
            "  (210, 0)\t0.9759000729485332\n",
            "  (211, 5)\t0.09759000729485333\n",
            "  (211, 4)\t0.09759000729485333\n",
            "  (211, 3)\t0.09759000729485333\n",
            "  (211, 2)\t0.09759000729485333\n",
            "  (211, 1)\t0.09759000729485333\n",
            "  (211, 0)\t0.9759000729485332\n"
          ]
        }
      ]
    },
    {
      "cell_type": "code",
      "source": [
        "# fit the training dataset on the NB classifier\n",
        "Naive = naive_bayes.MultinomialNB()\n",
        "Naive.fit(Train_X_Tfidf,Train_Y)\n",
        "# predict the labels on validation dataset\n",
        "predictions_NB = Naive.predict(Test_X_Tfidf)\n",
        "# Use accuracy_score function to get the accuracy\n",
        "print(\"Naive Bayes Accuracy Score -> \",accuracy_score(predictions_NB, Test_Y)*100)\n",
        "from sklearn import model_selection, naive_bayes, svm\n",
        "from sklearn.metrics import accuracy_score\n",
        "Naive = naive_bayes.MultinomialNB()\n",
        "Naive.fit(Train_X_Tfidf,Train_Y)\n",
        "\n",
        "# predict the labels on validation dataset\n",
        "predictions_NB = Naive.predict(Test_X_Tfidf)\n",
        "\n",
        "# Use accuracy_score function to get the accuracy\n",
        "print(\"Naive Bayes Accuracy Score -> \",accuracy_score(predictions_NB, Test_Y)*100)\n",
        "\n",
        "\n",
        "# Classifier - Algorithm - SVM\n",
        "# fit the training dataset on the classifier\n",
        "SVM = svm.SVC(C=1.0, kernel='linear', degree=3, gamma='auto')\n",
        "SVM.fit(Train_X_Tfidf,Train_Y)\n",
        "\n",
        "# predict the labels on validation dataset\n",
        "predictions_SVM = SVM.predict(Test_X_Tfidf)"
      ],
      "metadata": {
        "colab": {
          "base_uri": "https://localhost:8080/"
        },
        "id": "IrkHqcgSetYq",
        "outputId": "d7a9e952-bdaa-46c9-c540-c2cb53b39bcf"
      },
      "execution_count": 18,
      "outputs": [
        {
          "output_type": "stream",
          "name": "stdout",
          "text": [
            "Naive Bayes Accuracy Score ->  61.53846153846154\n",
            "Naive Bayes Accuracy Score ->  61.53846153846154\n"
          ]
        }
      ]
    },
    {
      "cell_type": "code",
      "source": [
        "Train_X_Tfidf.shape"
      ],
      "metadata": {
        "colab": {
          "base_uri": "https://localhost:8080/"
        },
        "id": "M_BsAfCsevxC",
        "outputId": "1ec151c6-92a3-4a5f-b6e6-4ed7e229d02e"
      },
      "execution_count": 19,
      "outputs": [
        {
          "output_type": "execute_result",
          "data": {
            "text/plain": [
              "(212, 6)"
            ]
          },
          "metadata": {},
          "execution_count": 19
        }
      ]
    },
    {
      "cell_type": "code",
      "source": [
        "print(classification_report(Test_Y, predictions_NB))"
      ],
      "metadata": {
        "colab": {
          "base_uri": "https://localhost:8080/"
        },
        "id": "ef0pnQVrezGJ",
        "outputId": "84838582-976f-42c3-c032-dde9a96fc50b"
      },
      "execution_count": 20,
      "outputs": [
        {
          "output_type": "stream",
          "name": "stdout",
          "text": [
            "              precision    recall  f1-score   support\n",
            "\n",
            "           0       0.00      0.00      0.00        35\n",
            "           1       0.62      1.00      0.76        56\n",
            "\n",
            "    accuracy                           0.62        91\n",
            "   macro avg       0.31      0.50      0.38        91\n",
            "weighted avg       0.38      0.62      0.47        91\n",
            "\n"
          ]
        },
        {
          "output_type": "stream",
          "name": "stderr",
          "text": [
            "/usr/local/lib/python3.7/dist-packages/sklearn/metrics/_classification.py:1308: UndefinedMetricWarning: Precision and F-score are ill-defined and being set to 0.0 in labels with no predicted samples. Use `zero_division` parameter to control this behavior.\n",
            "  _warn_prf(average, modifier, msg_start, len(result))\n",
            "/usr/local/lib/python3.7/dist-packages/sklearn/metrics/_classification.py:1308: UndefinedMetricWarning: Precision and F-score are ill-defined and being set to 0.0 in labels with no predicted samples. Use `zero_division` parameter to control this behavior.\n",
            "  _warn_prf(average, modifier, msg_start, len(result))\n",
            "/usr/local/lib/python3.7/dist-packages/sklearn/metrics/_classification.py:1308: UndefinedMetricWarning: Precision and F-score are ill-defined and being set to 0.0 in labels with no predicted samples. Use `zero_division` parameter to control this behavior.\n",
            "  _warn_prf(average, modifier, msg_start, len(result))\n"
          ]
        }
      ]
    },
    {
      "cell_type": "code",
      "source": [
        "# Classifier - Algorithm - SVM\n",
        "# fit the training dataset on the classifier\n",
        "SVM = svm.SVC(C=1.0, kernel='linear', degree=3, gamma='auto')\n",
        "SVM.fit(Train_X_Tfidf,Train_Y)\n",
        "# predict the labels on validation dataset\n",
        "predictions_SVM = SVM.predict(Test_X_Tfidf)\n",
        "# Use accuracy_score function to get the accuracy\n",
        "print(\"SVM Accuracy Score -> \",accuracy_score(predictions_SVM, Test_Y)*100)"
      ],
      "metadata": {
        "colab": {
          "base_uri": "https://localhost:8080/"
        },
        "id": "ONGXNU0be3v6",
        "outputId": "a55bc7ed-5a82-4c8e-8333-d33ffe9e7d7c"
      },
      "execution_count": 21,
      "outputs": [
        {
          "output_type": "stream",
          "name": "stdout",
          "text": [
            "SVM Accuracy Score ->  61.53846153846154\n"
          ]
        }
      ]
    },
    {
      "cell_type": "code",
      "source": [
        "print(classification_report(Test_Y,predictions_SVM))"
      ],
      "metadata": {
        "colab": {
          "base_uri": "https://localhost:8080/"
        },
        "id": "X-Mh9lH8e6IK",
        "outputId": "1277106c-1080-479b-a242-a3bf1eec1d8c"
      },
      "execution_count": 22,
      "outputs": [
        {
          "output_type": "stream",
          "name": "stdout",
          "text": [
            "              precision    recall  f1-score   support\n",
            "\n",
            "           0       0.00      0.00      0.00        35\n",
            "           1       0.62      1.00      0.76        56\n",
            "\n",
            "    accuracy                           0.62        91\n",
            "   macro avg       0.31      0.50      0.38        91\n",
            "weighted avg       0.38      0.62      0.47        91\n",
            "\n"
          ]
        },
        {
          "output_type": "stream",
          "name": "stderr",
          "text": [
            "/usr/local/lib/python3.7/dist-packages/sklearn/metrics/_classification.py:1308: UndefinedMetricWarning: Precision and F-score are ill-defined and being set to 0.0 in labels with no predicted samples. Use `zero_division` parameter to control this behavior.\n",
            "  _warn_prf(average, modifier, msg_start, len(result))\n",
            "/usr/local/lib/python3.7/dist-packages/sklearn/metrics/_classification.py:1308: UndefinedMetricWarning: Precision and F-score are ill-defined and being set to 0.0 in labels with no predicted samples. Use `zero_division` parameter to control this behavior.\n",
            "  _warn_prf(average, modifier, msg_start, len(result))\n",
            "/usr/local/lib/python3.7/dist-packages/sklearn/metrics/_classification.py:1308: UndefinedMetricWarning: Precision and F-score are ill-defined and being set to 0.0 in labels with no predicted samples. Use `zero_division` parameter to control this behavior.\n",
            "  _warn_prf(average, modifier, msg_start, len(result))\n"
          ]
        }
      ]
    }
  ]
}